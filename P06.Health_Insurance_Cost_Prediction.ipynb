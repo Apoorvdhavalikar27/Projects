{
 "cells": [
  {
   "cell_type": "code",
   "execution_count": 1,
   "metadata": {},
   "outputs": [],
   "source": [
    "import pandas as pd\n",
    "import statsmodels.api as sm"
   ]
  },
  {
   "cell_type": "code",
   "execution_count": 2,
   "metadata": {},
   "outputs": [
    {
     "data": {
      "text/html": [
       "<div>\n",
       "<style scoped>\n",
       "    .dataframe tbody tr th:only-of-type {\n",
       "        vertical-align: middle;\n",
       "    }\n",
       "\n",
       "    .dataframe tbody tr th {\n",
       "        vertical-align: top;\n",
       "    }\n",
       "\n",
       "    .dataframe thead th {\n",
       "        text-align: right;\n",
       "    }\n",
       "</style>\n",
       "<table border=\"1\" class=\"dataframe\">\n",
       "  <thead>\n",
       "    <tr style=\"text-align: right;\">\n",
       "      <th></th>\n",
       "      <th>age</th>\n",
       "      <th>sex</th>\n",
       "      <th>bmi</th>\n",
       "      <th>children</th>\n",
       "      <th>smoker</th>\n",
       "      <th>region</th>\n",
       "      <th>charges</th>\n",
       "    </tr>\n",
       "  </thead>\n",
       "  <tbody>\n",
       "    <tr>\n",
       "      <th>0</th>\n",
       "      <td>19</td>\n",
       "      <td>female</td>\n",
       "      <td>27.900</td>\n",
       "      <td>0</td>\n",
       "      <td>yes</td>\n",
       "      <td>southwest</td>\n",
       "      <td>16884.92400</td>\n",
       "    </tr>\n",
       "    <tr>\n",
       "      <th>1</th>\n",
       "      <td>18</td>\n",
       "      <td>male</td>\n",
       "      <td>33.770</td>\n",
       "      <td>1</td>\n",
       "      <td>no</td>\n",
       "      <td>southeast</td>\n",
       "      <td>1725.55230</td>\n",
       "    </tr>\n",
       "    <tr>\n",
       "      <th>2</th>\n",
       "      <td>28</td>\n",
       "      <td>male</td>\n",
       "      <td>33.000</td>\n",
       "      <td>3</td>\n",
       "      <td>no</td>\n",
       "      <td>southeast</td>\n",
       "      <td>4449.46200</td>\n",
       "    </tr>\n",
       "    <tr>\n",
       "      <th>3</th>\n",
       "      <td>33</td>\n",
       "      <td>male</td>\n",
       "      <td>22.705</td>\n",
       "      <td>0</td>\n",
       "      <td>no</td>\n",
       "      <td>northwest</td>\n",
       "      <td>21984.47061</td>\n",
       "    </tr>\n",
       "    <tr>\n",
       "      <th>4</th>\n",
       "      <td>32</td>\n",
       "      <td>male</td>\n",
       "      <td>28.880</td>\n",
       "      <td>0</td>\n",
       "      <td>no</td>\n",
       "      <td>northwest</td>\n",
       "      <td>3866.85520</td>\n",
       "    </tr>\n",
       "  </tbody>\n",
       "</table>\n",
       "</div>"
      ],
      "text/plain": [
       "   age     sex     bmi  children smoker     region      charges\n",
       "0   19  female  27.900         0    yes  southwest  16884.92400\n",
       "1   18    male  33.770         1     no  southeast   1725.55230\n",
       "2   28    male  33.000         3     no  southeast   4449.46200\n",
       "3   33    male  22.705         0     no  northwest  21984.47061\n",
       "4   32    male  28.880         0     no  northwest   3866.85520"
      ]
     },
     "execution_count": 2,
     "metadata": {},
     "output_type": "execute_result"
    }
   ],
   "source": [
    "insurance_data = pd.read_csv(\"DataSets/insurance.csv\")\n",
    "insurance_data.head()"
   ]
  },
  {
   "cell_type": "code",
   "execution_count": 3,
   "metadata": {},
   "outputs": [
    {
     "data": {
      "text/plain": [
       "(1338, 7)"
      ]
     },
     "execution_count": 3,
     "metadata": {},
     "output_type": "execute_result"
    }
   ],
   "source": [
    "insurance_data.shape"
   ]
  },
  {
   "cell_type": "code",
   "execution_count": 4,
   "metadata": {},
   "outputs": [
    {
     "data": {
      "text/plain": [
       "age           int64\n",
       "sex          object\n",
       "bmi         float64\n",
       "children      int64\n",
       "smoker       object\n",
       "region       object\n",
       "charges     float64\n",
       "dtype: object"
      ]
     },
     "execution_count": 4,
     "metadata": {},
     "output_type": "execute_result"
    }
   ],
   "source": [
    "insurance_data.dtypes"
   ]
  },
  {
   "cell_type": "markdown",
   "metadata": {},
   "source": [
    "###### statsmodels is a Python module that provides classes and functions for the estimation of many different statistical models, as well as for conducting statistical tests, and statistical data exploration."
   ]
  },
  {
   "cell_type": "code",
   "execution_count": 5,
   "metadata": {},
   "outputs": [
    {
     "data": {
      "text/plain": [
       "array(['southwest', 'southeast', 'northwest', 'northeast'], dtype=object)"
      ]
     },
     "execution_count": 5,
     "metadata": {},
     "output_type": "execute_result"
    }
   ],
   "source": [
    "insurance_data.region.unique()"
   ]
  },
  {
   "cell_type": "markdown",
   "metadata": {},
   "source": [
    "### Encoding"
   ]
  },
  {
   "cell_type": "code",
   "execution_count": 3,
   "metadata": {},
   "outputs": [],
   "source": [
    "from sklearn.preprocessing import LabelEncoder\n",
    "le = LabelEncoder()\n",
    "en_sex = le.fit_transform(insurance_data.sex)\n",
    "en_smoker = le.fit_transform(insurance_data.smoker)\n",
    "en_region = le.fit_transform(insurance_data.region)"
   ]
  },
  {
   "cell_type": "code",
   "execution_count": 4,
   "metadata": {},
   "outputs": [],
   "source": [
    "insurance_data['sex'] =  en_sex\n",
    "insurance_data['smoker'] = en_smoker\n",
    "insurance_data['region'] = en_region\n"
   ]
  },
  {
   "cell_type": "code",
   "execution_count": 8,
   "metadata": {},
   "outputs": [
    {
     "data": {
      "text/html": [
       "<div>\n",
       "<style scoped>\n",
       "    .dataframe tbody tr th:only-of-type {\n",
       "        vertical-align: middle;\n",
       "    }\n",
       "\n",
       "    .dataframe tbody tr th {\n",
       "        vertical-align: top;\n",
       "    }\n",
       "\n",
       "    .dataframe thead th {\n",
       "        text-align: right;\n",
       "    }\n",
       "</style>\n",
       "<table border=\"1\" class=\"dataframe\">\n",
       "  <thead>\n",
       "    <tr style=\"text-align: right;\">\n",
       "      <th></th>\n",
       "      <th>age</th>\n",
       "      <th>sex</th>\n",
       "      <th>bmi</th>\n",
       "      <th>children</th>\n",
       "      <th>smoker</th>\n",
       "      <th>region</th>\n",
       "      <th>charges</th>\n",
       "    </tr>\n",
       "  </thead>\n",
       "  <tbody>\n",
       "    <tr>\n",
       "      <th>0</th>\n",
       "      <td>19</td>\n",
       "      <td>0</td>\n",
       "      <td>27.900</td>\n",
       "      <td>0</td>\n",
       "      <td>1</td>\n",
       "      <td>3</td>\n",
       "      <td>16884.92400</td>\n",
       "    </tr>\n",
       "    <tr>\n",
       "      <th>1</th>\n",
       "      <td>18</td>\n",
       "      <td>1</td>\n",
       "      <td>33.770</td>\n",
       "      <td>1</td>\n",
       "      <td>0</td>\n",
       "      <td>2</td>\n",
       "      <td>1725.55230</td>\n",
       "    </tr>\n",
       "    <tr>\n",
       "      <th>2</th>\n",
       "      <td>28</td>\n",
       "      <td>1</td>\n",
       "      <td>33.000</td>\n",
       "      <td>3</td>\n",
       "      <td>0</td>\n",
       "      <td>2</td>\n",
       "      <td>4449.46200</td>\n",
       "    </tr>\n",
       "    <tr>\n",
       "      <th>3</th>\n",
       "      <td>33</td>\n",
       "      <td>1</td>\n",
       "      <td>22.705</td>\n",
       "      <td>0</td>\n",
       "      <td>0</td>\n",
       "      <td>1</td>\n",
       "      <td>21984.47061</td>\n",
       "    </tr>\n",
       "    <tr>\n",
       "      <th>4</th>\n",
       "      <td>32</td>\n",
       "      <td>1</td>\n",
       "      <td>28.880</td>\n",
       "      <td>0</td>\n",
       "      <td>0</td>\n",
       "      <td>1</td>\n",
       "      <td>3866.85520</td>\n",
       "    </tr>\n",
       "    <tr>\n",
       "      <th>...</th>\n",
       "      <td>...</td>\n",
       "      <td>...</td>\n",
       "      <td>...</td>\n",
       "      <td>...</td>\n",
       "      <td>...</td>\n",
       "      <td>...</td>\n",
       "      <td>...</td>\n",
       "    </tr>\n",
       "    <tr>\n",
       "      <th>1333</th>\n",
       "      <td>50</td>\n",
       "      <td>1</td>\n",
       "      <td>30.970</td>\n",
       "      <td>3</td>\n",
       "      <td>0</td>\n",
       "      <td>1</td>\n",
       "      <td>10600.54830</td>\n",
       "    </tr>\n",
       "    <tr>\n",
       "      <th>1334</th>\n",
       "      <td>18</td>\n",
       "      <td>0</td>\n",
       "      <td>31.920</td>\n",
       "      <td>0</td>\n",
       "      <td>0</td>\n",
       "      <td>0</td>\n",
       "      <td>2205.98080</td>\n",
       "    </tr>\n",
       "    <tr>\n",
       "      <th>1335</th>\n",
       "      <td>18</td>\n",
       "      <td>0</td>\n",
       "      <td>36.850</td>\n",
       "      <td>0</td>\n",
       "      <td>0</td>\n",
       "      <td>2</td>\n",
       "      <td>1629.83350</td>\n",
       "    </tr>\n",
       "    <tr>\n",
       "      <th>1336</th>\n",
       "      <td>21</td>\n",
       "      <td>0</td>\n",
       "      <td>25.800</td>\n",
       "      <td>0</td>\n",
       "      <td>0</td>\n",
       "      <td>3</td>\n",
       "      <td>2007.94500</td>\n",
       "    </tr>\n",
       "    <tr>\n",
       "      <th>1337</th>\n",
       "      <td>61</td>\n",
       "      <td>0</td>\n",
       "      <td>29.070</td>\n",
       "      <td>0</td>\n",
       "      <td>1</td>\n",
       "      <td>1</td>\n",
       "      <td>29141.36030</td>\n",
       "    </tr>\n",
       "  </tbody>\n",
       "</table>\n",
       "<p>1338 rows × 7 columns</p>\n",
       "</div>"
      ],
      "text/plain": [
       "      age  sex     bmi  children  smoker  region      charges\n",
       "0      19    0  27.900         0       1       3  16884.92400\n",
       "1      18    1  33.770         1       0       2   1725.55230\n",
       "2      28    1  33.000         3       0       2   4449.46200\n",
       "3      33    1  22.705         0       0       1  21984.47061\n",
       "4      32    1  28.880         0       0       1   3866.85520\n",
       "...   ...  ...     ...       ...     ...     ...          ...\n",
       "1333   50    1  30.970         3       0       1  10600.54830\n",
       "1334   18    0  31.920         0       0       0   2205.98080\n",
       "1335   18    0  36.850         0       0       2   1629.83350\n",
       "1336   21    0  25.800         0       0       3   2007.94500\n",
       "1337   61    0  29.070         0       1       1  29141.36030\n",
       "\n",
       "[1338 rows x 7 columns]"
      ]
     },
     "execution_count": 8,
     "metadata": {},
     "output_type": "execute_result"
    }
   ],
   "source": [
    "insurance_data "
   ]
  },
  {
   "cell_type": "code",
   "execution_count": 9,
   "metadata": {},
   "outputs": [],
   "source": [
    "X = insurance_data.drop(columns = ['charges'])"
   ]
  },
  {
   "cell_type": "code",
   "execution_count": 10,
   "metadata": {},
   "outputs": [
    {
     "data": {
      "text/html": [
       "<div>\n",
       "<style scoped>\n",
       "    .dataframe tbody tr th:only-of-type {\n",
       "        vertical-align: middle;\n",
       "    }\n",
       "\n",
       "    .dataframe tbody tr th {\n",
       "        vertical-align: top;\n",
       "    }\n",
       "\n",
       "    .dataframe thead th {\n",
       "        text-align: right;\n",
       "    }\n",
       "</style>\n",
       "<table border=\"1\" class=\"dataframe\">\n",
       "  <thead>\n",
       "    <tr style=\"text-align: right;\">\n",
       "      <th></th>\n",
       "      <th>age</th>\n",
       "      <th>sex</th>\n",
       "      <th>bmi</th>\n",
       "      <th>children</th>\n",
       "      <th>smoker</th>\n",
       "      <th>region</th>\n",
       "    </tr>\n",
       "  </thead>\n",
       "  <tbody>\n",
       "    <tr>\n",
       "      <th>0</th>\n",
       "      <td>19</td>\n",
       "      <td>0</td>\n",
       "      <td>27.900</td>\n",
       "      <td>0</td>\n",
       "      <td>1</td>\n",
       "      <td>3</td>\n",
       "    </tr>\n",
       "    <tr>\n",
       "      <th>1</th>\n",
       "      <td>18</td>\n",
       "      <td>1</td>\n",
       "      <td>33.770</td>\n",
       "      <td>1</td>\n",
       "      <td>0</td>\n",
       "      <td>2</td>\n",
       "    </tr>\n",
       "    <tr>\n",
       "      <th>2</th>\n",
       "      <td>28</td>\n",
       "      <td>1</td>\n",
       "      <td>33.000</td>\n",
       "      <td>3</td>\n",
       "      <td>0</td>\n",
       "      <td>2</td>\n",
       "    </tr>\n",
       "    <tr>\n",
       "      <th>3</th>\n",
       "      <td>33</td>\n",
       "      <td>1</td>\n",
       "      <td>22.705</td>\n",
       "      <td>0</td>\n",
       "      <td>0</td>\n",
       "      <td>1</td>\n",
       "    </tr>\n",
       "    <tr>\n",
       "      <th>4</th>\n",
       "      <td>32</td>\n",
       "      <td>1</td>\n",
       "      <td>28.880</td>\n",
       "      <td>0</td>\n",
       "      <td>0</td>\n",
       "      <td>1</td>\n",
       "    </tr>\n",
       "    <tr>\n",
       "      <th>...</th>\n",
       "      <td>...</td>\n",
       "      <td>...</td>\n",
       "      <td>...</td>\n",
       "      <td>...</td>\n",
       "      <td>...</td>\n",
       "      <td>...</td>\n",
       "    </tr>\n",
       "    <tr>\n",
       "      <th>1333</th>\n",
       "      <td>50</td>\n",
       "      <td>1</td>\n",
       "      <td>30.970</td>\n",
       "      <td>3</td>\n",
       "      <td>0</td>\n",
       "      <td>1</td>\n",
       "    </tr>\n",
       "    <tr>\n",
       "      <th>1334</th>\n",
       "      <td>18</td>\n",
       "      <td>0</td>\n",
       "      <td>31.920</td>\n",
       "      <td>0</td>\n",
       "      <td>0</td>\n",
       "      <td>0</td>\n",
       "    </tr>\n",
       "    <tr>\n",
       "      <th>1335</th>\n",
       "      <td>18</td>\n",
       "      <td>0</td>\n",
       "      <td>36.850</td>\n",
       "      <td>0</td>\n",
       "      <td>0</td>\n",
       "      <td>2</td>\n",
       "    </tr>\n",
       "    <tr>\n",
       "      <th>1336</th>\n",
       "      <td>21</td>\n",
       "      <td>0</td>\n",
       "      <td>25.800</td>\n",
       "      <td>0</td>\n",
       "      <td>0</td>\n",
       "      <td>3</td>\n",
       "    </tr>\n",
       "    <tr>\n",
       "      <th>1337</th>\n",
       "      <td>61</td>\n",
       "      <td>0</td>\n",
       "      <td>29.070</td>\n",
       "      <td>0</td>\n",
       "      <td>1</td>\n",
       "      <td>1</td>\n",
       "    </tr>\n",
       "  </tbody>\n",
       "</table>\n",
       "<p>1338 rows × 6 columns</p>\n",
       "</div>"
      ],
      "text/plain": [
       "      age  sex     bmi  children  smoker  region\n",
       "0      19    0  27.900         0       1       3\n",
       "1      18    1  33.770         1       0       2\n",
       "2      28    1  33.000         3       0       2\n",
       "3      33    1  22.705         0       0       1\n",
       "4      32    1  28.880         0       0       1\n",
       "...   ...  ...     ...       ...     ...     ...\n",
       "1333   50    1  30.970         3       0       1\n",
       "1334   18    0  31.920         0       0       0\n",
       "1335   18    0  36.850         0       0       2\n",
       "1336   21    0  25.800         0       0       3\n",
       "1337   61    0  29.070         0       1       1\n",
       "\n",
       "[1338 rows x 6 columns]"
      ]
     },
     "execution_count": 10,
     "metadata": {},
     "output_type": "execute_result"
    }
   ],
   "source": [
    "X"
   ]
  },
  {
   "cell_type": "code",
   "execution_count": 11,
   "metadata": {},
   "outputs": [],
   "source": [
    "y = insurance_data.charges"
   ]
  },
  {
   "cell_type": "code",
   "execution_count": 5,
   "metadata": {},
   "outputs": [],
   "source": [
    "from sklearn.model_selection import train_test_split\n",
    "X_train,X_test,y_train,y_test = train_test_split(X,y,test_size = 0.3,random_state=10)"
   ]
  },
  {
   "cell_type": "markdown",
   "metadata": {},
   "source": [
    "What is OLS?"
   ]
  },
  {
   "cell_type": "code",
   "execution_count": 13,
   "metadata": {},
   "outputs": [
    {
     "name": "stdout",
     "output_type": "stream",
     "text": [
      "      age  sex     bmi  children  smoker  region  const\n",
      "428    21    0  16.815         1       0       0    1.0\n",
      "226    28    1  38.060         0       0       2    1.0\n",
      "867    57    1  43.700         1       0       3    1.0\n",
      "397    21    1  31.020         0       0       2    1.0\n",
      "300    36    1  27.550         3       0       0    1.0\n",
      "...   ...  ...     ...       ...     ...     ...    ...\n",
      "1180   42    0  41.325         1       0       0    1.0\n",
      "1147   20    0  31.920         0       0       1    1.0\n",
      "527    51    0  25.800         1       0       3    1.0\n",
      "1149   42    1  34.100         0       0       3    1.0\n",
      "1289   44    1  34.320         1       0       2    1.0\n",
      "\n",
      "[936 rows x 7 columns]\n"
     ]
    }
   ],
   "source": [
    "XX = sm.add_constant(X_train,prepend = False)\n",
    "print(XX)\n",
    "# X_train with constants column"
   ]
  },
  {
   "cell_type": "code",
   "execution_count": 14,
   "metadata": {},
   "outputs": [
    {
     "name": "stdout",
     "output_type": "stream",
     "text": [
      "                            OLS Regression Results                            \n",
      "==============================================================================\n",
      "Dep. Variable:                charges   R-squared:                       0.761\n",
      "Model:                            OLS   Adj. R-squared:                  0.760\n",
      "Method:                 Least Squares   F-statistic:                     494.2\n",
      "Date:                Tue, 14 Sep 2021   Prob (F-statistic):          5.05e-285\n",
      "Time:                        20:28:51   Log-Likelihood:                -9479.2\n",
      "No. Observations:                 936   AIC:                         1.897e+04\n",
      "Df Residuals:                     929   BIC:                         1.901e+04\n",
      "Df Model:                           6                                         \n",
      "Covariance Type:            nonrobust                                         \n",
      "==============================================================================\n",
      "                 coef    std err          t      P>|t|      [0.025      0.975]\n",
      "------------------------------------------------------------------------------\n",
      "age          267.0648     14.191     18.819      0.000     239.214     294.916\n",
      "sex         -276.4921    400.871     -0.690      0.491   -1063.210     510.226\n",
      "bmi          332.4901     32.700     10.168      0.000     268.316     396.664\n",
      "children     616.8454    165.406      3.729      0.000     292.232     941.459\n",
      "smoker      2.426e+04    492.831     49.229      0.000    2.33e+04    2.52e+04\n",
      "region      -287.6177    181.581     -1.584      0.114    -643.974      68.739\n",
      "const      -1.237e+04   1114.422    -11.098      0.000   -1.46e+04   -1.02e+04\n",
      "==============================================================================\n",
      "Omnibus:                      195.552   Durbin-Watson:                   2.055\n",
      "Prob(Omnibus):                  0.000   Jarque-Bera (JB):              444.799\n",
      "Skew:                           1.134   Prob(JB):                     2.59e-97\n",
      "Kurtosis:                       5.502   Cond. No.                         290.\n",
      "==============================================================================\n",
      "\n",
      "Notes:\n",
      "[1] Standard Errors assume that the covariance matrix of the errors is correctly specified.\n"
     ]
    }
   ],
   "source": [
    "est = sm.OLS(y_train,XX)\n",
    "est2 = est.fit()\n",
    "print(est2.summary())\n",
    "# Here OLS(a,b): a should be dependent variable and b is independent\n",
    "\n",
    "# An endogenous variable is a variable in a statistical model\n",
    "# that's changed or determined by its relationship with other variables within the model. In other words, \n",
    "# an endogenous variable is synonymous with a dependent variable"
   ]
  },
  {
   "cell_type": "code",
   "execution_count": 10,
   "metadata": {},
   "outputs": [],
   "source": [
    "from sklearn.linear_model import LinearRegression\n",
    "reg = LinearRegression()\n",
    "reg.fit(X_train,y_train)\n",
    "pred = reg.predict(X_test)"
   ]
  },
  {
   "cell_type": "code",
   "execution_count": 16,
   "metadata": {},
   "outputs": [
    {
     "data": {
      "text/plain": [
       "array([ 8300.25331111,  5898.37327561, 15202.36890326, 11687.23188017,\n",
       "        3744.64036534,  9717.48857035,  9965.91189885, 26201.36280933,\n",
       "        8015.08128162, 31276.66456561,  1807.24286867,  4147.07380188,\n",
       "        7494.67368466, 11456.56430654, 13008.33765694, 11360.33257462,\n",
       "        5652.22997614, 18402.0423214 , 10769.16902585, 31167.14428256,\n",
       "       34409.19260264,  4106.30178863,  1189.30452588,  7463.3122754 ,\n",
       "        4583.2438516 , 13525.43289152, 11813.24171734, 10755.64256762,\n",
       "        6318.34542428, 31196.9204845 , -1849.14890589, 34141.19663923,\n",
       "        9645.20311011,  7700.38031302,  8089.82326242, 12048.50626972,\n",
       "       13607.92344874, 12583.0736086 , 10082.8315077 ,  8588.08764997,\n",
       "       16134.77015137, 10089.09469913,  5550.92111062, 11512.75228309,\n",
       "        5266.74290175,  7595.58446318,  6905.54606857, 34652.16949477,\n",
       "       11325.49924672, 10829.04475023, 32867.71036904,  5543.98780892,\n",
       "       10332.99479677, 14937.60932216, 11358.93405539, 13568.6005838 ,\n",
       "       12370.92274455,  7565.81763349,  7635.53390548, 35479.38828227,\n",
       "         628.53337129, 33586.69095212, 37402.47177284,  1580.39368032,\n",
       "       28219.89523736,  9793.14745679,  5933.71488146,  9422.77198185,\n",
       "        8280.98338702,  7951.71152697,  7455.30019063,  2189.6231637 ,\n",
       "        8324.34125701,  9724.26523199,  9175.87858475, 13039.41074719,\n",
       "        6619.86306211, 10587.9054709 , -1066.10719219, 13024.02812086,\n",
       "       11544.40486145, 12977.75407218, 27047.21955062,  2602.11626598,\n",
       "       34134.00712542,  4566.06006631,  2669.99514236,  3183.02452815,\n",
       "        9217.29050468,  9372.03108118, 31946.50280117, 33155.01145233,\n",
       "        9735.77906624, 37973.18742715, 13559.09517766,  6129.67366035,\n",
       "        7117.46653894, 14140.31857366,  6598.37806439, 11237.29748162,\n",
       "        8079.43570695,  2452.76694403,  3063.41515497,  6961.92417322,\n",
       "       10383.31448591,  9738.80359869, 31544.27975066, 30160.86801484,\n",
       "       30615.89303249,  4200.67649575, 10816.5958615 ,  8413.2099659 ,\n",
       "        6768.11069365, 26283.35010878, 30526.17990779, 31693.38994684,\n",
       "        5681.94078382, 35437.55415443,  6637.29119403,  3573.74520414,\n",
       "       34144.18449554, 11207.18175816,  6867.10243677,  5104.34806701,\n",
       "       39534.85675728,  5367.41915684, 13953.27238347,  9563.43222976,\n",
       "        6615.40938899, 12195.03711482, 11471.40474453, 36618.37106143,\n",
       "       27162.09009816, 35065.86512269, 12285.84363159, 30889.4506593 ,\n",
       "       12569.54715036, 12608.74607206, 29220.70713706,  5493.81576096,\n",
       "        8179.36562142, 32249.26251885, 14341.30950089,  4028.54946714,\n",
       "        4187.76540543, 29871.3774808 , 13793.7562772 ,  9154.13447523,\n",
       "       11882.69887753,  3556.25934755,  7490.49346556,  4880.71293277,\n",
       "        1675.24626051, 38820.62022582, 13703.82147503,  3986.65597811,\n",
       "       14464.10024726,  -694.80477123, 15525.21319611, 36474.52610117,\n",
       "       11512.17675779,  6858.08447661,  7693.35512538, 12010.4638469 ,\n",
       "        5067.04738247, 40045.32197502, 10620.17171453, 10306.21228354,\n",
       "        2215.00901079, 10934.93001854, 12332.75076327, 10049.97138414,\n",
       "        7041.11522992, 12031.46309615, 29768.58904619,  8128.23647346,\n",
       "         859.22966305, 12226.68573037, 10177.85321707, 15947.71624198,\n",
       "       39399.60856216, 11216.36721097,  5486.33280199,  5888.49940753,\n",
       "       27399.96405476,  6923.35892446, 36453.41205863,  9596.02636824,\n",
       "       30990.05714008,  1672.2048589 ,  8379.88514751,  9217.93247086,\n",
       "        7134.00417869,  9607.34626266, 13795.34725081, 11534.57786544,\n",
       "       24402.52883596,  3051.55094661, 10648.21403858,  6818.81514046,\n",
       "        6470.27001715,    59.97528313, 15860.81782122, 13983.63267075,\n",
       "        3129.35681339, 37594.06643829, 28344.15845725, 16011.03890737,\n",
       "       32337.16804506,  4614.87750131,  9653.94239028, 32894.19271429,\n",
       "        9076.5921168 ,  9042.49239012, 32233.31707289,  6231.27332161,\n",
       "        9772.83540415,   913.64245526, 15178.25783284, 12777.98422587,\n",
       "        7130.62135226,  7106.67465761,   778.67923999, 14584.79986324,\n",
       "         106.38974285, 26138.87127492, 14164.66271515,  4592.31329756,\n",
       "        8287.58446344, 29594.3939615 ,  6263.36002296, 25515.27045002,\n",
       "        7549.0454207 , 30477.21958502, 11865.91709182,  4841.48133014,\n",
       "       11251.69734059, 37942.78195394, -1222.93872701, 14723.73396897,\n",
       "       10859.71292469, 28017.03046066, 10825.30118106, 32708.27091608,\n",
       "       11910.24751673,  3002.3619328 , 13184.19810838,  8358.69947185,\n",
       "       13229.38152502,   600.69038   ,  9812.22868353, 12508.97925369,\n",
       "       34165.40620208,  5095.3821553 , 10373.78469207, 11819.67821731,\n",
       "        9787.42168441,  5610.33500676,  -112.66357916, 16351.98125825,\n",
       "        3118.08584542, 35416.99546258,  8885.63424116, 36713.17073647,\n",
       "        7649.84335885,  2441.8159294 , 16192.67140824, 11191.01591441,\n",
       "        3956.15591993, 10454.77134211,  2452.76694403,  2926.01252709,\n",
       "       10737.17754962, 11271.09350048, 11213.09061268,  2905.27386999,\n",
       "       28037.05901381,   683.13968037,  9475.0011837 , 35627.5584699 ,\n",
       "       -2530.12267407,  2310.81292469, 13604.90183249,  9607.10444297,\n",
       "       32194.2812473 ,  1185.45240229,  4546.33168114,  9995.1821936 ,\n",
       "       29393.86983818,  3144.82942235,  7936.08374179,  5191.0200569 ,\n",
       "        7526.90178832,  6536.70138173, 24795.53500002,  3001.43207058,\n",
       "       29496.11628513, 12990.7535086 ,  7236.70844657, 15050.10123252,\n",
       "       36508.95451328,  8544.54546267,  -339.61630176, 27332.8548442 ,\n",
       "       11240.37284383, 11569.72823047, 16714.13508671, 10623.06127908,\n",
       "       11917.98503477, 10649.86585373,  7501.6754975 ,  9227.1525238 ,\n",
       "        7950.27613093,  1481.11594446, 13572.50455005, 37563.24642677,\n",
       "       39684.02297548,  9421.74192456, 10484.15759412, 14517.9021177 ,\n",
       "       11371.04008343,  6094.9979854 , 10689.11704104,  9834.09525594,\n",
       "         979.06772728, 10489.93837563,  4091.68761455, 37637.95005042,\n",
       "        8675.07002028,  3035.7342634 , 33500.75699372, 13996.38944667,\n",
       "       11245.06022818, 28876.8979232 ,  5564.6168987 , 11058.9828524 ,\n",
       "       11002.76281855,  3777.86498865, 31537.04628098, 34428.40148452,\n",
       "       15627.85688924,  1343.16005336, 10379.61630336, 12922.04147546,\n",
       "        9182.8823009 , 15716.97095765, 11698.34974792,  8749.23827926,\n",
       "        9309.14627929, 33866.34677094, 30359.90797185,  7716.82606683,\n",
       "       -1971.64492743,  2136.90133949, 17510.24041754,  8304.57764806,\n",
       "       30430.17416789,  8269.67702259,  3463.53687854,  5368.73726636,\n",
       "       14448.4955866 , 10264.98032886,  4121.57066828,  6270.22312739,\n",
       "        5823.15618175,  2350.8591784 , 25173.3530675 , 14636.40439103,\n",
       "        4017.46805323,  5487.58489361,  9505.24688347,  8430.90309163,\n",
       "       28467.15065687,  6192.8269959 ,  4587.5367549 , 12065.86568983,\n",
       "        7414.74813632,  7755.56214741,  8947.26383457,  5789.93341215,\n",
       "        5802.37817112, 10943.18392299, 29334.33865551,  8677.25197412,\n",
       "        5641.9353195 , 11659.48077482,  1772.75299138, 12605.3740817 ,\n",
       "       30952.37715752,  1903.60353541, 13530.54710261, 11247.27720511,\n",
       "       10846.87489824,  6432.48628317, 10329.68174464, 17370.02275281,\n",
       "       10337.35557106, 34759.36139638,  8049.43494373, 32600.07000571,\n",
       "        3204.12481841, 11077.72201416])"
      ]
     },
     "execution_count": 16,
     "metadata": {},
     "output_type": "execute_result"
    }
   ],
   "source": [
    "pred"
   ]
  },
  {
   "cell_type": "code",
   "execution_count": 17,
   "metadata": {},
   "outputs": [
    {
     "data": {
      "text/plain": [
       "0.7183245518407815"
      ]
     },
     "execution_count": 17,
     "metadata": {},
     "output_type": "execute_result"
    }
   ],
   "source": [
    "reg.score(X_test,y_test)"
   ]
  },
  {
   "cell_type": "markdown",
   "metadata": {},
   "source": [
    "###### Here we drop the region and sex column as they have very low coef"
   ]
  },
  {
   "cell_type": "code",
   "execution_count": 6,
   "metadata": {},
   "outputs": [],
   "source": [
    "X1 = insurance_data.drop(columns = [\"region\",\"sex\"])\n",
    "y1 = insurance_data.charges"
   ]
  },
  {
   "cell_type": "code",
   "execution_count": 7,
   "metadata": {},
   "outputs": [],
   "source": [
    "X1_train,X1_test,y1_train,y1_test = train_test_split(X1,y1,test_size =0.2, random_state = 10)"
   ]
  },
  {
   "cell_type": "code",
   "execution_count": 12,
   "metadata": {},
   "outputs": [
    {
     "name": "stdout",
     "output_type": "stream",
     "text": [
      "                                 OLS Regression Results                                \n",
      "=======================================================================================\n",
      "Dep. Variable:                charges   R-squared (uncentered):                   1.000\n",
      "Model:                            OLS   Adj. R-squared (uncentered):              1.000\n",
      "Method:                 Least Squares   F-statistic:                          1.644e+33\n",
      "Date:                Tue, 14 Sep 2021   Prob (F-statistic):                        0.00\n",
      "Time:                        20:32:33   Log-Likelihood:                          26050.\n",
      "No. Observations:                1070   AIC:                                 -5.209e+04\n",
      "Df Residuals:                    1065   BIC:                                 -5.207e+04\n",
      "Df Model:                           5                                                  \n",
      "Covariance Type:            nonrobust                                                  \n",
      "==============================================================================\n",
      "                 coef    std err          t      P>|t|      [0.025      0.975]\n",
      "------------------------------------------------------------------------------\n",
      "age        -3.375e-14   1.46e-14     -2.319      0.021   -6.23e-14   -5.19e-15\n",
      "bmi         -1.35e-13    1.8e-14     -7.501      0.000    -1.7e-13   -9.97e-14\n",
      "children   -2.416e-13   1.63e-13     -1.480      0.139   -5.62e-13    7.88e-14\n",
      "smoker     -2.547e-11   8.82e-13    -28.875      0.000   -2.72e-11   -2.37e-11\n",
      "charges        1.0000   3.12e-17   3.21e+16      0.000       1.000       1.000\n",
      "==============================================================================\n",
      "Omnibus:                       73.934   Durbin-Watson:                   1.923\n",
      "Prob(Omnibus):                  0.000   Jarque-Bera (JB):              254.030\n",
      "Skew:                          -0.255   Prob(JB):                     6.89e-56\n",
      "Kurtosis:                       5.332   Cond. No.                     8.00e+04\n",
      "==============================================================================\n",
      "\n",
      "Notes:\n",
      "[1] R² is computed without centering (uncentered) since the model does not contain a constant.\n",
      "[2] Standard Errors assume that the covariance matrix of the errors is correctly specified.\n",
      "[3] The condition number is large,  8e+04. This might indicate that there are\n",
      "strong multicollinearity or other numerical problems.\n"
     ]
    }
   ],
   "source": [
    "est1 = sm.OLS(y1_train,X1_train)\n",
    "est3 = est1.fit()\n",
    "print(est3.summary())"
   ]
  },
  {
   "cell_type": "code",
   "execution_count": 13,
   "metadata": {},
   "outputs": [
    {
     "data": {
      "text/plain": [
       "1.0"
      ]
     },
     "execution_count": 13,
     "metadata": {},
     "output_type": "execute_result"
    }
   ],
   "source": [
    "reg1 = LinearRegression()\n",
    "reg1.fit(X1_train,y1_train)\n",
    "reg1.score(X1_test,y1_test)"
   ]
  },
  {
   "cell_type": "code",
   "execution_count": null,
   "metadata": {},
   "outputs": [],
   "source": []
  }
 ],
 "metadata": {
  "kernelspec": {
   "display_name": "Python 3",
   "language": "python",
   "name": "python3"
  },
  "language_info": {
   "codemirror_mode": {
    "name": "ipython",
    "version": 3
   },
   "file_extension": ".py",
   "mimetype": "text/x-python",
   "name": "python",
   "nbconvert_exporter": "python",
   "pygments_lexer": "ipython3",
   "version": "3.8.5"
  }
 },
 "nbformat": 4,
 "nbformat_minor": 4
}
