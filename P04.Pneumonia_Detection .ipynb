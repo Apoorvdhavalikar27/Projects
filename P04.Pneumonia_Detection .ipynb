{
 "cells": [
  {
   "cell_type": "code",
   "execution_count": 1,
   "metadata": {},
   "outputs": [],
   "source": [
    "import pandas as pd\n",
    "import numpy as np\n",
    "import seaborn as sn\n",
    "from sklearn.metrics import confusion_matrix,classification_report\n",
    "import tensorflow as tf\n",
    "from tensorflow import keras\n",
    "import pathlib\n",
    "import PIL\n",
    "import cv2\n",
    "from sklearn.model_selection import train_test_split"
   ]
  },
  {
   "cell_type": "code",
   "execution_count": 9,
   "metadata": {},
   "outputs": [],
   "source": [
    "def Read_Img(np,op):\n",
    "    \n",
    "    normal_path = pathlib.Path(np)\n",
    "    opecity_path = pathlib.Path(op)\n",
    "    normal_imgdata = list(normal_path.glob(\"*.jpeg\"))\n",
    "    opecity_imgdata = list(opecity_path.glob(\"*.jpeg\"))\n",
    "    \n",
    "    class_dir = {\n",
    "    \"normal\": list(normal_path.glob(\"*.jpeg\")),\n",
    "    \"opecity\": list(opecity_path.glob(\"*.jpeg\"))\n",
    "    }\n",
    "    label_dir = {\n",
    "    \"normal\": 0,\n",
    "    \"opecity\": 1\n",
    "    }\n",
    "    X,y = [],[]\n",
    "    for result,images in class_dir.items():\n",
    "        for image in images:\n",
    "            img = cv2.imread(str(image))\n",
    "            img_resize = cv2.resize(img,(180,180))\n",
    "            X.append(img_resize)\n",
    "            y.append(label_dir[result])\n",
    "#     X = np.array(X)\n",
    "#     y = np.array(y)\n",
    "            \n",
    "    return X,y"
   ]
  },
  {
   "cell_type": "code",
   "execution_count": 10,
   "metadata": {},
   "outputs": [],
   "source": [
    "X,y = Read_Img(\"DataSets/Pnemonia/train/normal\",\"DataSets/Pnemonia/train/opacity\")"
   ]
  },
  {
   "cell_type": "code",
   "execution_count": 11,
   "metadata": {},
   "outputs": [],
   "source": [
    "X = np.array(X)\n",
    "y = np.array(y)\n",
    "X = X/255 \n",
    "X_train,X_test,y_train,y_test = train_test_split(X,y,test_size = 0.5)"
   ]
  },
  {
   "cell_type": "code",
   "execution_count": 12,
   "metadata": {},
   "outputs": [],
   "source": [
    "model = keras.Sequential([\n",
    "    \n",
    "        keras.layers.Conv2D(16,3,padding = 'same',activation = 'relu'),\n",
    "#         keras.layers.MaxPooling2D(),\n",
    "        keras.layers.Conv2D(32,3,padding = 'same',activation = 'relu'),\n",
    "#         keras.layers.MaxPooling2D(),\n",
    "        keras.layers.Conv2D(32,3,padding = 'same',activation = 'relu'),\n",
    "    \n",
    "        keras.layers.Flatten(),\n",
    "        keras.layers.Dense(10,activation = 'relu'),\n",
    "        keras.layers.Dense(2,activation = 'softmax')\n",
    "    \n",
    "])\n",
    "model.compile(optimizer = 'adam',loss =  'sparse_categorical_crossentropy',metrics = ['accuracy'])"
   ]
  },
  {
   "cell_type": "code",
   "execution_count": 13,
   "metadata": {},
   "outputs": [
    {
     "name": "stdout",
     "output_type": "stream",
     "text": [
      "Epoch 1/5\n",
      "66/66 [==============================] - 63s 922ms/step - loss: 1.0935 - accuracy: 0.7032\n",
      "Epoch 2/5\n",
      "66/66 [==============================] - 67s 1s/step - loss: 0.4563 - accuracy: 0.7495\n",
      "Epoch 3/5\n",
      "66/66 [==============================] - 68s 1s/step - loss: 0.2839 - accuracy: 0.7495\n",
      "Epoch 4/5\n",
      "66/66 [==============================] - 68s 1s/step - loss: 0.2468 - accuracy: 0.8053\n",
      "Epoch 5/5\n",
      "66/66 [==============================] - 69s 1s/step - loss: 0.2174 - accuracy: 0.9656\n"
     ]
    },
    {
     "data": {
      "text/plain": [
       "<tensorflow.python.keras.callbacks.History at 0x1eea0fbdb20>"
      ]
     },
     "execution_count": 13,
     "metadata": {},
     "output_type": "execute_result"
    }
   ],
   "source": [
    "model.fit(X_train,y_train,epochs = 5)"
   ]
  },
  {
   "cell_type": "code",
   "execution_count": 14,
   "metadata": {},
   "outputs": [
    {
     "name": "stdout",
     "output_type": "stream",
     "text": [
      "66/66 [==============================] - 15s 219ms/step - loss: 0.2280 - accuracy: 0.9590\n"
     ]
    },
    {
     "data": {
      "text/plain": [
       "[0.22800102829933167, 0.9589694738388062]"
      ]
     },
     "execution_count": 14,
     "metadata": {},
     "output_type": "execute_result"
    }
   ],
   "source": [
    "model.evaluate(X_test,y_test)"
   ]
  },
  {
   "cell_type": "markdown",
   "metadata": {},
   "source": [
    "#### Let's Try on Validation Dataset"
   ]
  },
  {
   "cell_type": "code",
   "execution_count": 15,
   "metadata": {},
   "outputs": [],
   "source": [
    "Xv,yv = Read_Img(\"DataSets/Pnemonia/val/normal\",\"DataSets/Pnemonia/val/opacity\")"
   ]
  },
  {
   "cell_type": "code",
   "execution_count": 16,
   "metadata": {},
   "outputs": [],
   "source": [
    "Xv = np.array(Xv)\n",
    "yv = np.array(yv)\n",
    "Xv = Xv/255"
   ]
  },
  {
   "cell_type": "code",
   "execution_count": 17,
   "metadata": {},
   "outputs": [],
   "source": [
    "yp = model.predict(Xv)\n",
    "my_prediction = []\n",
    "for i in range(len(yp)):\n",
    "    my_prediction.append(np.argmax(yp[i]))"
   ]
  },
  {
   "cell_type": "code",
   "execution_count": 18,
   "metadata": {},
   "outputs": [
    {
     "data": {
      "text/plain": [
       "<AxesSubplot:>"
      ]
     },
     "execution_count": 18,
     "metadata": {},
     "output_type": "execute_result"
    },
    {
     "data": {
      "image/png": "[encoded data removed]",
      "text/plain": [
       "<Figure size 432x288 with 2 Axes>"
      ]
     },
     "metadata": {
      "needs_background": "light"
     },
     "output_type": "display_data"
    }
   ],
   "source": [
    "cm = confusion_matrix(my_prediction,yv)\n",
    "sn.heatmap(cm,annot=True)"
   ]
  },
  {
   "cell_type": "code",
   "execution_count": 19,
   "metadata": {},
   "outputs": [
    {
     "name": "stdout",
     "output_type": "stream",
     "text": [
      "              precision    recall  f1-score   support\n",
      "\n",
      "           0       0.91      0.93      0.92       259\n",
      "           1       0.98      0.97      0.97       781\n",
      "\n",
      "    accuracy                           0.96      1040\n",
      "   macro avg       0.94      0.95      0.95      1040\n",
      "weighted avg       0.96      0.96      0.96      1040\n",
      "\n"
     ]
    }
   ],
   "source": [
    "print(classification_report(my_prediction,yv))"
   ]
  },
  {
   "cell_type": "code",
   "execution_count": null,
   "metadata": {},
   "outputs": [],
   "source": []
  }
 ],
 "metadata": {
  "kernelspec": {
   "display_name": "Python 3",
   "language": "python",
   "name": "python3"
  },
  "language_info": {
   "codemirror_mode": {
    "name": "ipython",
    "version": 3
   },
   "file_extension": ".py",
   "mimetype": "text/x-python",
   "name": "python",
   "nbconvert_exporter": "python",
   "pygments_lexer": "ipython3",
   "version": "3.8.5"
  }
 },
 "nbformat": 4,
 "nbformat_minor": 4
}
